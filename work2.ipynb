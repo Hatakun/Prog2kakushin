{
  "nbformat": 4,
  "nbformat_minor": 0,
  "metadata": {
    "colab": {
      "provenance": [],
      "authorship_tag": "ABX9TyMVUlGedbfIUOmcKtgomTb0",
      "include_colab_link": true
    },
    "kernelspec": {
      "name": "python3",
      "display_name": "Python 3"
    },
    "language_info": {
      "name": "python"
    }
  },
  "cells": [
    {
      "cell_type": "markdown",
      "metadata": {
        "id": "view-in-github",
        "colab_type": "text"
      },
      "source": [
        "<a href=\"https://colab.research.google.com/github/Hatakun/Prog2kakushin/blob/main/work2.ipynb\" target=\"_parent\"><img src=\"https://colab.research.google.com/assets/colab-badge.svg\" alt=\"Open In Colab\"/></a>"
      ]
    },
    {
      "cell_type": "code",
      "source": [
        "import numpy as np\n",
        "a = np.array([0])\n",
        "b = np.array([0])\n",
        "while True:\n",
        "  num = input('登録したい科目の単位数を入力してください.ない場合は‐1を入力してください')\n",
        "  if '-1' == num:\n",
        "    break\n",
        "  grade = input('評価を０～４で入力してください')\n",
        "\n",
        "  try :\n",
        "    num = int(num)\n",
        "    grade = int(grade)\n",
        "  except :\n",
        "    print('自然数を入力してください')\n",
        "    continue\n",
        "  if num < 0 or grade < 0:\n",
        "    print('自然数を入力してください')\n",
        "    continue\n",
        "  if grade >4:\n",
        "    print('０～４で入力してください')\n",
        "    continue\n",
        "  a = np.append(a,num)\n",
        "  b = np.append(b,grade*num)\n",
        "\n",
        "total_num = np.sum(a)+1\n",
        "total_grade = np.sum(b)\n",
        "\n",
        "GPA = total_grade/total_num\n",
        "print(GPA)\n",
        "print('GPAは'+str(GPA)+'です')\n",
        "\n",
        "\n",
        "\n",
        "\n",
        "\n"
      ],
      "metadata": {
        "id": "XIx9BCGK57ZI",
        "colab": {
          "base_uri": "https://localhost:8080/"
        },
        "outputId": "99bce19b-4045-4910-9098-69a53e619a99"
      },
      "execution_count": 16,
      "outputs": [
        {
          "output_type": "stream",
          "name": "stdout",
          "text": [
            "登録したい科目の単位数を入力してください.ない場合は‐1を入力してください2\n",
            "評価を０～４で入力してください4\n",
            "登録したい科目の単位数を入力してください.ない場合は‐1を入力してください2\n",
            "評価を０～４で入力してください3\n",
            "登録したい科目の単位数を入力してください.ない場合は‐1を入力してください2\n",
            "評価を０～４で入力してください1\n",
            "登録したい科目の単位数を入力してください.ない場合は‐1を入力してください2\n",
            "評価を０～４で入力してください3\n",
            "登録したい科目の単位数を入力してください.ない場合は‐1を入力してください-1\n",
            "-1\n",
            "3\n",
            "2.4444444444444446\n",
            "GPAは2.4444444444444446です\n"
          ]
        }
      ]
    }
  ]
}