{
  "nbformat": 4,
  "nbformat_minor": 0,
  "metadata": {
    "colab": {
      "provenance": [],
      "authorship_tag": "ABX9TyODVKeJdBsjsnNlbavQ9Q3n",
      "include_colab_link": true
    },
    "kernelspec": {
      "name": "python3",
      "display_name": "Python 3"
    },
    "language_info": {
      "name": "python"
    }
  },
  "cells": [
    {
      "cell_type": "markdown",
      "metadata": {
        "id": "view-in-github",
        "colab_type": "text"
      },
      "source": [
        "<a href=\"https://colab.research.google.com/github/Hatakun/Prog2kakushin/blob/main/work2.ipynb\" target=\"_parent\"><img src=\"https://colab.research.google.com/assets/colab-badge.svg\" alt=\"Open In Colab\"/></a>"
      ]
    },
    {
      "cell_type": "code",
      "execution_count": 4,
      "metadata": {
        "id": "FbwbO7-VJLfC",
        "outputId": "e482f7cf-ea9f-48ce-ec47-8f3bd2e6fc34",
        "colab": {
          "base_uri": "https://localhost:8080/"
        }
      },
      "outputs": [
        {
          "name": "stdout",
          "output_type": "stream",
          "text": [
            "科目数を入力してください-2\n",
            "自然数を入力してください\n",
            "科目数を入力してください4\n"
          ]
        }
      ],
      "source": [
        "#GPA計算機\n",
        "import numpy as np\n",
        "while True:\n",
        "  n = (input('科目数を入力してください'))\n",
        "  try :\n",
        "    n = int(n)\n",
        "  except :\n",
        "    print('自然数を入力してください')\n",
        "    continue\n",
        "  if n < 0:\n",
        "    print('自然数を入力してください')\n",
        "    continue\n",
        "  break\n",
        "\n",
        "array = np.zeros((2,n))\n",
        "for i in range(n):\n",
        "  a"
      ]
    },
    {
      "cell_type": "code",
      "source": [
        "a = np.array()\n",
        "while True:\n",
        "  num = input('登録したい科目の単位数を入力してください')\n",
        "  grade = input('評価を入力してください')\n",
        "\n",
        "  try :\n",
        "    num = int(num)\n",
        "    grade = int(grade)\n",
        "  except :\n",
        "    print('自然数を入力してください')\n",
        "    continue\n",
        "  if num < 0 or grade < 0:\n",
        "    print('自然数を入力してください')\n",
        "    continue\n",
        "  info = np.array([num],\n",
        "                  [grade])\n",
        "  a = a+info\n",
        "\n",
        "\n",
        "\n",
        ""
      ],
      "metadata": {
        "id": "XIx9BCGK57ZI"
      },
      "execution_count": null,
      "outputs": []
    }
  ]
}